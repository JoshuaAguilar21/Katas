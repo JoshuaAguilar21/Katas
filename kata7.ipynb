{
 "cells": [
  {
   "cell_type": "code",
   "execution_count": 1,
   "metadata": {},
   "outputs": [
    {
     "name": "stdout",
     "output_type": "stream",
     "text": [
      "mercurio\n",
      "venus\n",
      "tierra\n",
      "marte\n",
      "jupiter\n",
      "saturno\n",
      "urano\n",
      "neptuno\n",
      "pluton\n"
     ]
    }
   ],
   "source": [
    "from time import sleep\n",
    "\n",
    "new_planet = ''\n",
    "planets = []\n",
    "\n",
    "while new_planet.lower() != 'done':\n",
    "    if new_planet:\n",
    "        planets.append(new_planet)\n",
    "    new_planet = input(\"Escribe un planeta, una vez terminado escribe done\")\n",
    "\n",
    "for planet in planets:\n",
    "    print(planet)\n",
    "    sleep(0.5)"
   ]
  }
 ],
 "metadata": {
  "interpreter": {
   "hash": "e077bf159c184799fd1856e83f380232f3532b2905ff7c5fb6cfa3d2440c1417"
  },
  "kernelspec": {
   "display_name": "Python 3.9.5 64-bit",
   "language": "python",
   "name": "python3"
  },
  "language_info": {
   "codemirror_mode": {
    "name": "ipython",
    "version": 3
   },
   "file_extension": ".py",
   "mimetype": "text/x-python",
   "name": "python",
   "nbconvert_exporter": "python",
   "pygments_lexer": "ipython3",
   "version": "3.9.5"
  },
  "orig_nbformat": 4
 },
 "nbformat": 4,
 "nbformat_minor": 2
}
