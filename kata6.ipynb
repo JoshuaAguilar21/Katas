{
 "cells": [
  {
   "cell_type": "code",
   "execution_count": 1,
   "metadata": {},
   "outputs": [
    {
     "name": "stdout",
     "output_type": "stream",
     "text": [
      "Existen 9 planetas en el sistema solar\n",
      "Pluton Es el último planeta\n"
     ]
    }
   ],
   "source": [
    "planetas = ['Mercurio', 'Venus', 'Tierra', 'Marte','Jupiter', 'Saturno', 'Urano', 'Neptuno']\n",
    "planetas.append('Pluton')\n",
    "numero_planetas = len(planetas)\n",
    "print(\"Existen\", numero_planetas, \"planetas en el sistema solar\")\n",
    "print(planetas[-1], \"Es el último planeta\")"
   ]
  },
  {
   "cell_type": "code",
   "execution_count": 9,
   "metadata": {},
   "outputs": [
    {
     "name": "stdout",
     "output_type": "stream",
     "text": [
      "Planetas más cercanos que Plutón\n",
      "['Mercury', 'Venus', 'Earth', 'Mars', 'Jupiter', 'Saturn', 'Neptune', 'Uranus']\n",
      "Planetas más cercanos a Plutón\n",
      "['Neptune', 'Uranus', 'Plutón']\n"
     ]
    }
   ],
   "source": [
    "planets = ['Mercury', 'Venus', 'Earth', 'Mars', 'Jupiter', 'Saturn', 'Neptune', 'Uranus']\n",
    "nombre_planeta = input(\"Escribe el nombre del planeta empezando con mayúscula\")\n",
    "planets.append(nombre_planeta)\n",
    "planeta_index = planets.index(nombre_planeta)\n",
    "print(\"Planetas más cercanos que\", str(nombre_planeta))\n",
    "print(planets[0:planeta_index])\n",
    "print(\"Planetas más cercanos a\", str(nombre_planeta))\n",
    "print(planets[planeta_index - 2 :])"
   ]
  }
 ],
 "metadata": {
  "interpreter": {
   "hash": "0c8e0cd12ad442a98820d7a6b2a4ea06e50d5377b9a68be23ca9d1c53f398288"
  },
  "kernelspec": {
   "display_name": "Python 3.9.5 ('env': venv)",
   "language": "python",
   "name": "python3"
  },
  "language_info": {
   "codemirror_mode": {
    "name": "ipython",
    "version": 3
   },
   "file_extension": ".py",
   "mimetype": "text/x-python",
   "name": "python",
   "nbconvert_exporter": "python",
   "pygments_lexer": "ipython3",
   "version": "3.9.5"
  },
  "orig_nbformat": 4
 },
 "nbformat": 4,
 "nbformat_minor": 2
}
