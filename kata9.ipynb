{
 "cells": [
  {
   "cell_type": "code",
   "execution_count": 4,
   "metadata": {},
   "outputs": [
    {
     "name": "stdout",
     "output_type": "stream",
     "text": [
      "Reporte:\n",
      "    Promedio total: 78.0%\n",
      "    Tanke 1: 88%\n",
      "    Tanke 2: 76%\n",
      "    Tank 3: 70% \n",
      "    \n"
     ]
    }
   ],
   "source": [
    "def promedio(values):\n",
    "    total = sum(values)\n",
    "    numero_items = len(values)\n",
    "    return total / numero_items\n",
    "\n",
    "def generate_report(tanke1, tanke2, tanke3):\n",
    "    return f\"\"\"Reporte:\n",
    "    Promedio total: {promedio([tanke1, tanke2, tanke3])}%\n",
    "    Tanke 1: {tanke1}%\n",
    "    Tanke 2: {tanke2}%\n",
    "    Tank 3: {tanke3}% \n",
    "    \"\"\"\n",
    "print(generate_report(88, 76, 70))\n"
   ]
  },
  {
   "cell_type": "code",
   "execution_count": 3,
   "metadata": {},
   "outputs": [
    {
     "name": "stdout",
     "output_type": "stream",
     "text": [
      "\n",
      "    Mission to Moon\n",
      "    Total travel time: 74 minutes\n",
      "    Total fuel left: 500000\n",
      "    Principal tank --> 300000 gallons left\n",
      "External tank --> 200000 gallons left\n",
      "\n"
     ]
    }
   ],
   "source": [
    "def mission_report(destino, *minutes, **fuel_reservoirs):\n",
    "    main_report = f\"\"\"\n",
    "    Mission to {destino}\n",
    "    Total travel time: {sum(minutes)} minutes\n",
    "    Total fuel left: {sum(fuel_reservoirs.values())}\n",
    "    \"\"\"\n",
    "    for tank_name, gallons in fuel_reservoirs.items():\n",
    "        main_report += f\"{tank_name} tank --> {gallons} gallons left\\n\"\n",
    "    return main_report\n",
    "\n",
    "print(mission_report(\"Moon\", 8, 11, 55, Principal=300000, External=200000))"
   ]
  }
 ],
 "metadata": {
  "interpreter": {
   "hash": "e077bf159c184799fd1856e83f380232f3532b2905ff7c5fb6cfa3d2440c1417"
  },
  "kernelspec": {
   "display_name": "Python 3.9.5 64-bit",
   "language": "python",
   "name": "python3"
  },
  "language_info": {
   "codemirror_mode": {
    "name": "ipython",
    "version": 3
   },
   "file_extension": ".py",
   "mimetype": "text/x-python",
   "name": "python",
   "nbconvert_exporter": "python",
   "pygments_lexer": "ipython3",
   "version": "3.9.5"
  },
  "orig_nbformat": 4
 },
 "nbformat": 4,
 "nbformat_minor": 2
}
