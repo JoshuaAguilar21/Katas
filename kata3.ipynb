{
 "cells": [
  {
   "cell_type": "code",
   "execution_count": 1,
   "metadata": {},
   "outputs": [
    {
     "name": "stdout",
     "output_type": "stream",
     "text": [
      "Asteroide en riesgo de impactar\n"
     ]
    }
   ],
   "source": [
    "velAsteroide = 49\n",
    "if velAsteroide >= 25:\n",
    "    print(\"Asteroide en riesgo de impactar\")\n",
    "else:\n",
    "    print(\"Fuera de riesgo\")"
   ]
  },
  {
   "cell_type": "code",
   "execution_count": 2,
   "metadata": {},
   "outputs": [
    {
     "name": "stdout",
     "output_type": "stream",
     "text": [
      "Mantenganse en sus casas\n"
     ]
    }
   ],
   "source": [
    "velInsercion = 19\n",
    "if velInsercion >= 20:\n",
    "    print(\"Busquen en el cielo un rayo de luz\")\n",
    "else:\n",
    "    print(\"Mantenganse en sus casas\")"
   ]
  },
  {
   "cell_type": "code",
   "execution_count": 8,
   "metadata": {},
   "outputs": [
    {
     "name": "stdout",
     "output_type": "stream",
     "text": [
      "Sin preocuparse\n"
     ]
    }
   ],
   "source": [
    "scale = 19\n",
    "velAsteroide = 19\n",
    "\n",
    "if scale >= 25 and velAsteroide >= 25:\n",
    "    print(\"Asteroide con riesgo de impacto\")\n",
    "elif velAsteroide >= 20:\n",
    "    print(\"Busquen una luz en el cielo\")\n",
    "elif scale <= 25:\n",
    "    print(\"Sin preocuparse\")\n",
    "else:\n",
    "    print(\"Sin preocuparse\")"
   ]
  }
 ],
 "metadata": {
  "interpreter": {
   "hash": "e077bf159c184799fd1856e83f380232f3532b2905ff7c5fb6cfa3d2440c1417"
  },
  "kernelspec": {
   "display_name": "Python 3.9.5 64-bit",
   "language": "python",
   "name": "python3"
  },
  "language_info": {
   "codemirror_mode": {
    "name": "ipython",
    "version": 3
   },
   "file_extension": ".py",
   "mimetype": "text/x-python",
   "name": "python",
   "nbconvert_exporter": "python",
   "pygments_lexer": "ipython3",
   "version": "3.9.5"
  },
  "orig_nbformat": 4
 },
 "nbformat": 4,
 "nbformat_minor": 2
}
