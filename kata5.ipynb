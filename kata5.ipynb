{
 "cells": [
  {
   "cell_type": "code",
   "execution_count": 11,
   "metadata": {},
   "outputs": [
    {
     "name": "stdout",
     "output_type": "stream",
     "text": [
      "628949330\n",
      "1012195830.53952\n"
     ]
    }
   ],
   "source": [
    "earth_distance = 149597870\n",
    "jupiter_distance = 778547200\n",
    "\n",
    "difference = earth_distance - jupiter_distance\n",
    "print(abs(difference))\n",
    "print(abs(difference * 1.609344))"
   ]
  },
  {
   "cell_type": "code",
   "execution_count": 1,
   "metadata": {},
   "outputs": [],
   "source": [
    "planeta_1 = input('Escribe la distancia del primer planeta')\n",
    "planeta_2 = input('Escribe la distancia del segundo planeta')\n",
    "\n",
    "planeta_1 = int(planeta_1)\n",
    "planeta_2 = int(planeta_2)\n",
    "\n",
    "distancia_km = planeta_1 - planeta_2\n",
    "distancia_mi = distancia_km * 1000\n",
    "\n",
    "print(abs(distancia_km), \"Km\")\n",
    "print(abs(distancia_mi * 1.609344), \"Millas\")"
   ]
  }
 ],
 "metadata": {
  "interpreter": {
   "hash": "e077bf159c184799fd1856e83f380232f3532b2905ff7c5fb6cfa3d2440c1417"
  },
  "kernelspec": {
   "display_name": "Python 3.9.5 64-bit",
   "language": "python",
   "name": "python3"
  },
  "language_info": {
   "codemirror_mode": {
    "name": "ipython",
    "version": 3
   },
   "file_extension": ".py",
   "mimetype": "text/x-python",
   "name": "python",
   "nbconvert_exporter": "python",
   "pygments_lexer": "ipython3",
   "version": "3.9.5"
  },
  "orig_nbformat": 4
 },
 "nbformat": 4,
 "nbformat_minor": 2
}
